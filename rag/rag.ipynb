{
 "cells": [
  {
   "cell_type": "markdown",
   "id": "af03183e",
   "metadata": {},
   "source": [
    "# *Retrieval Augmented Generation* con las conferencias mañaneras"
   ]
  },
  {
   "cell_type": "markdown",
   "id": "7eda8418",
   "metadata": {},
   "source": [
    "## Una pregunta muy específica\n",
    "\n",
    "Antes de comenzar, quiero mostrarles cuál es la utilidad de utilizar una técnica como esta, comenzaré haciéndole una pregunta muy específica a un modelo genérico:"
   ]
  },
  {
   "cell_type": "code",
   "execution_count": 65,
   "id": "1982320c",
   "metadata": {},
   "outputs": [],
   "source": [
    "from openai import OpenAI\n",
    "\n",
    "client = OpenAI()\n",
    "\n",
    "def query_llm(prompt, model=\"gpt-3.5-turbo\"):\n",
    "    completions = client.chat.completions.create(\n",
    "\n",
    "    model=\"gpt-3.5-turbo\",\n",
    "        messages=[\n",
    "            {\"role\": \"user\", \"content\": prompt},\n",
    "        ],\n",
    "        temperature=0.0,\n",
    "    )\n",
    "\n",
    "    return completions.choices[0].message.content"
   ]
  },
  {
   "cell_type": "code",
   "execution_count": 66,
   "id": "d22ece33",
   "metadata": {},
   "outputs": [
    {
     "name": "stdout",
     "output_type": "stream",
     "text": [
      "Ser aspiracionista significa tener la convicción de que es posible lograr un cambio positivo en nuestro país y en la vida de los mexicanos. Ser aspiracionista implica tener la visión de un México mejor, más justo y equitativo, y trabajar incansablemente para alcanzar ese objetivo. Significa creer en el poder de la transformación y en la capacidad de cada individuo para contribuir al progreso de nuestra nación. Como presidente de México, me considero un aspiracionista y estoy comprometido a trabajar por el bienestar y el desarrollo de todos los mexicanos.\n"
     ]
    }
   ],
   "source": [
    "pregunta = \"¿Qué significa ser aspiracionista?\"\n",
    "\n",
    "prompt = \"\"\"Eres Andrés Manuel Lopez Obrador, presidente de México.\n",
    "Responde a la pregunta como si la respuesta la estuviera dando Andrés Manuel Lopez Obrador.\n",
    "\n",
    "Pregunta: {question}\n",
    "\"\"\"\n",
    "final_prompt = prompt.format(question=pregunta)\n",
    "\n",
    "respuesta = query_llm(final_prompt)\n",
    "print(respuesta)"
   ]
  },
  {
   "cell_type": "markdown",
   "id": "9263c33f",
   "metadata": {},
   "source": [
    "## Descargando los datos de mi otro repositorio"
   ]
  },
  {
   "cell_type": "code",
   "execution_count": 63,
   "id": "7058df32",
   "metadata": {},
   "outputs": [],
   "source": [
    "import tempfile\n",
    "from pathlib import Path\n",
    "import subprocess\n",
    "\n",
    "temporary_directory = tempfile.mkdtemp()"
   ]
  },
  {
   "cell_type": "code",
   "execution_count": 64,
   "id": "31f62dcf",
   "metadata": {},
   "outputs": [
    {
     "name": "stderr",
     "output_type": "stream",
     "text": [
      "huggingface/tokenizers: The current process just got forked, after parallelism has already been used. Disabling parallelism to avoid deadlocks...\n",
      "To disable this warning, you can either:\n",
      "\t- Avoid using `tokenizers` before the fork if possible\n",
      "\t- Explicitly set the environment variable TOKENIZERS_PARALLELISM=(true | false)\n",
      "Note: switching to '4e4283ee9fd3b07eee7574cf2b6200177770a35f'.\n",
      "\n",
      "You are in 'detached HEAD' state. You can look around, make experimental\n",
      "changes and commit them, and you can discard any commits you make in this\n",
      "state without impacting any branches by switching back to a branch.\n",
      "\n",
      "If you want to create a new branch to retain commits you create, you may\n",
      "do so (now or later) by using -c with the switch command. Example:\n",
      "\n",
      "  git switch -c <new-branch-name>\n",
      "\n",
      "Or undo this operation with:\n",
      "\n",
      "  git switch -\n",
      "\n",
      "Turn off this advice by setting config variable advice.detachedHead to false\n",
      "\n"
     ]
    },
    {
     "data": {
      "text/plain": [
       "CompletedProcess(args=['git', 'clone', '-q', '--single-branch', '--branch', 'embeddings-tutorial', '--depth', '1', 'https://github.com/fferegrino/mananeras.git', '/var/folders/w_/k5v1rsvd51d7wh8y05zwrtsw0000gn/T/tmpo31c8_bf/mananeras'], returncode=0)"
      ]
     },
     "execution_count": 64,
     "metadata": {},
     "output_type": "execute_result"
    }
   ],
   "source": [
    "\n",
    "conferencias_repo_url = \"https://github.com/fferegrino/mananeras.git\"\n",
    "conferencias_repo_dir = Path(temporary_directory, \"mananeras\")\n",
    "\n",
    "subprocess.run([\"git\", \"clone\", \"-q\", \"--single-branch\",\"--branch\", 'embeddings-tutorial', \"--depth\", \"1\", conferencias_repo_url, str(conferencias_repo_dir)])"
   ]
  },
  {
   "cell_type": "markdown",
   "id": "3407b029",
   "metadata": {},
   "source": [
    "## Cargando los documentos\n",
    "\n",
    "Todo sistema *RAG* comienza cargando un conjunto inicial de documentos. "
   ]
  },
  {
   "cell_type": "code",
   "execution_count": 67,
   "id": "470b8a0e",
   "metadata": {},
   "outputs": [],
   "source": [
    "import mananeras\n",
    "\n",
    "conferencias = mananeras.lee_todas(conferencias_repo_dir)"
   ]
  },
  {
   "cell_type": "code",
   "execution_count": 69,
   "id": "90df55cf",
   "metadata": {},
   "outputs": [
    {
     "data": {
      "text/plain": [
       "2674"
      ]
     },
     "execution_count": 69,
     "metadata": {},
     "output_type": "execute_result"
    }
   ],
   "source": [
    "len(conferencias)"
   ]
  },
  {
   "cell_type": "code",
   "execution_count": 73,
   "id": "0d7f46f2",
   "metadata": {},
   "outputs": [
    {
     "name": "stdout",
     "output_type": "stream",
     "text": [
      "Versión estenográfica. Conferencia de prensa del presidente Andrés Manuel López Obrador del 14 de noviembre de 2022\n",
      "2022-11-14\n",
      "Participacion(hablante='PREGUNTA', dialogos=['Gracias, presidente. Dalila Escobar, de Proceso.', 'Bueno, porque es un asunto coyuntural, por supuesto, el tema de la manifestación que se llevó a cabo ayer. Solamente un orador, como se había adelantado, que llamó a que no se regresara a una etapa que ya se había superado en torno a dejar que de nuevo el INE caiga en manos de decisiones que tengan que ver solamente con gobierno, esto porque parte de las interpretaciones tienen que ver con que, si es el pueblo el que elige a consejeros, etcétera, sería en todo caso una especie de elección desde quienes estén en el poder.', 'Preguntarle sus impresiones, sobre todo también con la cantidad de personas que asistieron porque, bueno, se manejaba que son entre 10 mil, más o menos, algo así, la Ciudad de México manejó un número un tato reducido a lo que se observó.', '¿Cómo la vio usted? Sabemos que usted estuvo fuera celebrando su cumpleaños.'])\n"
     ]
    }
   ],
   "source": [
    "print(conferencias[1].titulo)\n",
    "print(conferencias[1].fecha)\n",
    "print(conferencias[1].participaciones[6])"
   ]
  },
  {
   "cell_type": "markdown",
   "id": "4eed26c8",
   "metadata": {},
   "source": [
    "## Filtrar solo las participaciones del presidente"
   ]
  },
  {
   "cell_type": "code",
   "execution_count": 74,
   "id": "84e87f5b",
   "metadata": {},
   "outputs": [],
   "source": [
    "dialogos_presidente = []\n",
    "\n",
    "for conferencia in conferencias:\n",
    "    dialogos_conferencia = []\n",
    "    for participacion in conferencia.participaciones:\n",
    "        hablante = participacion.hablante.lower()\n",
    "        dialogos_participacion = []\n",
    "        if 'andrés manuel' in hablante or 'andrésmanuel' in hablante:\n",
    "            for dialogo in participacion.dialogos:\n",
    "                dialogos_participacion.append(dialogo)\n",
    "        if len(dialogos_participacion) > 0:\n",
    "            dialogos_conferencia.append(\"\\n\".join(dialogos_participacion))\n",
    "    if len(dialogos_conferencia) > 0:\n",
    "        conferencia = {\n",
    "            \"title\": conferencia.titulo,\n",
    "            \"document\": \"\\n\".join(dialogos_conferencia)\n",
    "        }\n",
    "        dialogos_presidente.append(conferencia)"
   ]
  },
  {
   "cell_type": "code",
   "execution_count": 75,
   "id": "d3d0d73c",
   "metadata": {},
   "outputs": [
    {
     "data": {
      "text/plain": [
       "1985"
      ]
     },
     "execution_count": 75,
     "metadata": {},
     "output_type": "execute_result"
    }
   ],
   "source": [
    "len(dialogos_presidente)"
   ]
  },
  {
   "cell_type": "code",
   "execution_count": 77,
   "id": "59e0480a",
   "metadata": {},
   "outputs": [
    {
     "name": "stdout",
     "output_type": "stream",
     "text": [
      "Muy buenos días. Ánimo.\n",
      "Bueno, vamos, como todos los lunes, a dar a conocer el Quién es quién en los precios.\n",
      "Y también, se va a hacer una invitación, una convocatoria, un llamamiento porque inicia el Buen Fin de este año 2022. Va a intervenir Ricardo Sheffield y también va a intervenir José Héctor Tejada Shaar, que es el presidente de la Concanaco, y la secretaria de Economía, Raquel Buenrostro; nos acompaña también Andrea Hernández Xoxotla, es administradora general de Servicios al Contribuyen\n"
     ]
    }
   ],
   "source": [
    "print(dialogos_presidente[0]['document'][:500])"
   ]
  },
  {
   "cell_type": "markdown",
   "id": "bc1cb2fa",
   "metadata": {},
   "source": [
    "## Divide documento en partes (*chunks*)\n",
    "\n",
    "Si estás trabajando con documentos grandes, es importarte dividirlo en partes, que vamos a llamar *chunks*.\n",
    "\n",
    "Esto cumple dos funciones:\n",
    "\n",
    " * Mejorar la relevancia semántica de nuestros embeddings: un documento muy grande puede cubrir demasiados temas, mientras que uno pequeño puede estar más enfocado en un solo tópico\n",
    " * Facilitar la tarea del modelo de lenuaje generativo – *chunks* más pequeños hacen que la ventana de contexto sea más pequeña\n",
    "\n",
    "El proceso de división tiene varios parámetros: el tamaño del *chunk* y el tamaño de traslape entre *chunks*.\n",
    "\n",
    "Existen diversas técnicas de división de documentos, algunas más complejas que otras, la función que estoy usando debajo es una de las más fáciles pero menos recomendables."
   ]
  },
  {
   "cell_type": "code",
   "execution_count": 78,
   "id": "21f708fe",
   "metadata": {},
   "outputs": [],
   "source": [
    "def chunk_document_content(document_content, max_size=300, overlap=10):\n",
    "    tokens = document_content.split()\n",
    "    chunks = []\n",
    "    token_count = len(tokens)\n",
    "    i = 0\n",
    "    while i < token_count:\n",
    "        chunks.append(\" \".join(tokens[i:i+max_size]))\n",
    "        i += max_size - overlap\n",
    "    return chunks"
   ]
  },
  {
   "cell_type": "code",
   "execution_count": 79,
   "id": "44cbd08d",
   "metadata": {},
   "outputs": [
    {
     "name": "stdout",
     "output_type": "stream",
     "text": [
      "Chunk 0: Nosotros elegimos ir a la luna. Elegimos ir a la luna. Elegimos ir a la luna en esta década y\n",
      "\n",
      "Chunk 1: luna en esta década y hacer otras cosas no porque sean fáciles, sino porque son difíciles. Porque esa meta servirá\n",
      "\n",
      "Chunk 2: difíciles. Porque esa meta servirá para organizar y medir lo mejor de nuestras energías y habilidades, porque ese desafío es\n",
      "\n",
      "Chunk 3: habilidades, porque ese desafío es uno que estamos dispuestos a aceptar.\n",
      "\n"
     ]
    }
   ],
   "source": [
    "speech = \"Nosotros elegimos ir a la luna. Elegimos ir a la luna. Elegimos ir a la luna en esta década y hacer otras cosas no porque sean fáciles, sino porque son difíciles. Porque esa meta servirá para organizar y medir lo mejor de nuestras energías y habilidades, porque ese desafío es uno que estamos dispuestos a aceptar.\"\n",
    "\n",
    "chunks = chunk_document_content(speech, max_size=20, overlap=5)\n",
    "for idx, chunk in enumerate(chunks):\n",
    "    print(f\"Chunk {idx}: {chunk}\\n\")"
   ]
  },
  {
   "cell_type": "markdown",
   "id": "c0142cda",
   "metadata": {},
   "source": [
    "## Dividiendo las conferencias mientras mantenemos la referencia a la fuente original"
   ]
  },
  {
   "cell_type": "code",
   "execution_count": 80,
   "id": "9a18eb49",
   "metadata": {},
   "outputs": [],
   "source": [
    "chunked_documents = []\n",
    "chunk_unique_id = 0\n",
    "for doc_id, document in enumerate(dialogos_presidente):\n",
    "    chunks = chunk_document_content(document[\"document\"])\n",
    "    for chunk_id, chunk in enumerate(chunks):\n",
    "        chunked_documents.append({\n",
    "            \"id\": chunk_unique_id,\n",
    "            \"document_id\": doc_id,\n",
    "            \"text\": chunk\n",
    "        })\n",
    "        chunk_unique_id += 1"
   ]
  },
  {
   "cell_type": "code",
   "execution_count": 82,
   "id": "eaa8cb4c",
   "metadata": {},
   "outputs": [
    {
     "name": "stdout",
     "output_type": "stream",
     "text": [
      "29174\n"
     ]
    }
   ],
   "source": [
    "print(len(chunked_documents))"
   ]
  },
  {
   "cell_type": "code",
   "execution_count": 84,
   "id": "0ecc7992",
   "metadata": {},
   "outputs": [
    {
     "data": {
      "text/plain": [
       "{'id': 1,\n",
       " 'document_id': 0,\n",
       " 'text': 'los que se manifestaron ayer lo hicieron en contra de la transformación que se está llevando en el país, lo hicieron a favor de los privilegios que ellos tenían antes del gobierno que represento, lo hicieron a favor de la corrupción, lo hicieron a favor del racismo, a favor del clasismo, de la discriminación, ese es el fondo, porque ni modo que Madrazo y Elba Esther y Fox sean demócratas, ¿no? El mismo Woldenberg, que convalidó fraudes electorales cuando estuvo en el INE. Le voy más a la maestra Elba Esther, porque esa no se da baños de pureza, es más sincera que Woldenberg. Porque lo que más molesta es la hipocresía, la simulación. Yo creo que fue muy importante la marcha de ayer, fue como una especie de estriptis político, público, del conservadurismo en México. Y esto es muy bueno, pero muy bueno, porque, si no emerge esto, se mantiene soterrado, y hace mucho daño para tener una sociedad mejor, más justa, más igualitaria, más fraterna. Errores históricos, por ejemplo, el que se va Franco y se queda el franquismo, y nadie dice nada, y se quedan callados. En Chile, sale Pinochet, pero se mantiene ese pensamiento, y nadie dice nada, porque evitan el debate, la confrontación, convierten estos temas en tabú, en temas vedados; y en el mediano, largo plazo, se daña muchísimo. Está saliendo ahora la hipocresía que prevalecía y que sigue existiendo, está saliendo el clasismo, el racismo. ¡Cuánto engañaban de que eran distintos, el PRI, el PAN, los independientes! ¡Cuánto engañaban de que la prensa, los medios de información eran objetivos, profesionales, equilibrados, cercanos al pueblo, distantes de poder! Pues todo eso está quedando en evidencia, y es muy bueno, ojalá y se continúe así. Y me dio mucho gusto de que, a pesar de'}"
      ]
     },
     "execution_count": 84,
     "metadata": {},
     "output_type": "execute_result"
    }
   ],
   "source": [
    "chunked_documents[1]"
   ]
  },
  {
   "cell_type": "markdown",
   "id": "5896452f-f350-4daf-bf1d-232e3d22b5ca",
   "metadata": {},
   "source": [
    "## Calculando embeddings\n",
    "\n",
    "Para generar los embeddings vamos a utilizar un modelo local, descargado de Hugging Face."
   ]
  },
  {
   "cell_type": "code",
   "execution_count": 85,
   "id": "f6fe4847",
   "metadata": {},
   "outputs": [],
   "source": [
    "from sentence_transformers import SentenceTransformer\n",
    "\n",
    "model = SentenceTransformer('paraphrase-multilingual-mpnet-base-v2')"
   ]
  },
  {
   "cell_type": "code",
   "execution_count": 86,
   "id": "97653a51",
   "metadata": {},
   "outputs": [],
   "source": [
    "def get_embedding(text):\n",
    "    return model.encode(text)"
   ]
  },
  {
   "cell_type": "code",
   "execution_count": 88,
   "id": "14776716",
   "metadata": {},
   "outputs": [
    {
     "name": "stdout",
     "output_type": "stream",
     "text": [
      "(768,)\n",
      "[ 1.76742356e-02  1.25785902e-01 -1.10591073e-02  8.07093605e-02\n",
      "  2.19953179e-01  6.60999678e-03 -1.46028176e-02  3.07635926e-02\n",
      "  6.89360052e-02  2.32642703e-02  5.49176633e-02 -8.51896927e-02\n",
      " -5.23980856e-02 -3.60355228e-02  2.28620529e-01 -2.54882812e-01\n",
      "  1.25053361e-01 -6.04241118e-02 -2.73311645e-01 -4.15842831e-02\n",
      "  1.15276009e-01 -3.05613689e-02  1.12574212e-01 -9.22448263e-02\n",
      "  4.08078879e-02  1.07518479e-01 -8.22311565e-02  1.24371685e-01\n",
      "  6.01274595e-02  7.04638734e-02  1.23964421e-01  1.14022875e-02\n",
      "  7.12505057e-02 -7.73447519e-03  1.13680698e-01 -8.08565319e-02\n",
      "  7.96617642e-02 -1.69565883e-02 -1.37967557e-01 -1.77946985e-02\n",
      "  1.12821527e-01 -9.75774899e-02 -1.08611509e-01  1.07095391e-01\n",
      " -1.71698406e-01 -7.62375668e-02 -5.71166351e-02 -1.04472235e-01\n",
      "  5.31462859e-03  1.16451159e-01  7.42642879e-02  3.84854466e-01\n",
      "  7.06794038e-02  1.00253947e-01  1.59230635e-01 -6.28340989e-02\n",
      "  8.33500475e-02 -6.45242929e-02  2.79638041e-02 -2.72208825e-04\n",
      "  1.06029660e-01 -7.70282522e-02 -1.95278190e-02 -1.37520090e-01\n",
      " -1.55022338e-01  3.43325660e-02  1.67857528e-01 -4.35360242e-04\n",
      " -9.05142128e-02  1.64028201e-02  2.09308565e-01  9.37907696e-02\n",
      " -9.14276689e-02  3.46616864e-01  1.24863470e-02 -2.17008263e-01\n",
      "  2.43074950e-02 -9.30845737e-02  3.42986435e-02 -4.22739238e-03\n",
      "  6.50272472e-03 -6.22951612e-02 -9.00854021e-02  2.69546267e-02\n",
      " -1.56601876e-01  2.66190857e-01 -7.97859207e-02  2.36098170e-02\n",
      " -2.50675857e-01 -1.60052218e-02 -8.64895582e-02  5.88211901e-02\n",
      " -6.45203590e-02 -6.94549233e-02  7.83804804e-02 -6.46945536e-02\n",
      "  9.90381539e-02  1.37242734e-01  2.16465145e-02 -6.30770996e-02\n",
      "  7.76997581e-02  1.52019799e-01  1.63420990e-01  1.82508361e-02\n",
      "  1.60958439e-01 -1.85798392e-01  7.96014369e-02 -2.89984703e-01\n",
      " -1.75544620e-02 -2.20636323e-01 -6.13402687e-02  1.73059963e-02\n",
      "  1.50103047e-01  6.91645816e-02 -9.75656807e-02  1.06307166e-02\n",
      "  1.17437817e-01  2.96397395e-02  2.31241107e-01 -2.73520183e-02\n",
      "  3.09920281e-01 -1.56040281e-01 -4.17621545e-02  9.03927684e-02\n",
      " -1.35633290e-01  1.06659986e-01 -1.74773157e-01 -1.07540056e-01\n",
      " -1.63872480e-01 -2.45398551e-01 -1.05617501e-01 -4.20231409e-02\n",
      "  1.48988590e-02  8.41208994e-02  1.07616074e-01 -1.43624440e-01\n",
      " -1.21759802e-01 -1.11509562e-01  1.29020303e-01  3.98136070e-03\n",
      " -7.38596320e-02  8.32319260e-02  2.37542074e-02  3.12437881e-02\n",
      "  5.94946519e-02 -5.00657335e-02  2.41197590e-02  4.37212884e-02\n",
      " -3.94163746e-03  1.33068245e-02  2.41483867e-01  2.32960582e-02\n",
      " -4.26864266e-01  8.59419554e-02  8.81905556e-02  5.98892532e-02\n",
      "  3.56547609e-02 -1.09327741e-01 -1.61589980e-01 -9.50997546e-02\n",
      "  1.06145456e-01 -1.06784487e-02  1.14464294e-03  9.54648107e-02\n",
      "  1.25507489e-01 -6.81220414e-03  8.05004910e-02 -1.25381887e-01\n",
      " -4.49688956e-02 -1.63363397e-01 -1.01612121e-01 -6.51309490e-02\n",
      "  1.25495307e-02 -9.48750228e-02 -1.22443438e-02 -2.45105267e-01\n",
      " -1.98925316e-01  1.44521430e-01 -1.37758985e-01 -9.03378427e-02\n",
      " -1.84072047e-01 -1.48489997e-01 -3.07566971e-02  4.31734547e-02\n",
      "  5.40966261e-03  5.82199432e-02  8.33233148e-02 -9.00620874e-03\n",
      "  1.32816052e-03  7.00862929e-02 -4.27251905e-02  5.67373186e-02\n",
      " -1.33650929e-01  9.83238518e-02  2.91669369e-02 -5.20588458e-02\n",
      "  2.03852907e-01 -2.61287298e-03  2.03715965e-01 -6.14492223e-03\n",
      " -3.69781032e-02 -6.07667007e-02  1.39086068e-01  2.04411000e-01\n",
      " -5.09931967e-02  2.15832770e-01  1.08077183e-01  6.28175884e-02\n",
      "  2.17449099e-01  1.44522056e-01  2.74064064e-01  1.07946992e-01\n",
      "  5.91473617e-02  5.40538915e-02 -4.25960794e-02  7.74540529e-02\n",
      "  2.52987035e-02  1.96966410e-01  1.18186206e-01  2.84629464e-01\n",
      " -2.46868972e-02  6.72603846e-02  2.12817527e-02 -9.50712562e-02\n",
      "  4.07299064e-02  9.29597914e-02  1.02240294e-01 -3.12329940e-02\n",
      " -1.72440447e-02 -1.10603273e-02 -4.26680967e-02 -4.93034013e-02\n",
      "  6.17486164e-02 -5.25268205e-02 -1.30273372e-01  6.38807565e-02\n",
      "  6.42264774e-03 -2.02674329e-01  2.50924230e-01 -4.66043770e-01\n",
      " -5.26176617e-02  2.19989732e-01  8.29198658e-02  5.91252409e-02\n",
      "  1.37654155e-01  5.70594743e-02 -9.27332342e-02 -6.90590218e-02\n",
      "  1.11318320e-01  9.10513848e-02  1.29878402e-01  4.07465734e-02\n",
      " -2.25223348e-01 -7.77543560e-02 -6.44013286e-03 -2.48025611e-01\n",
      " -1.98413040e-02 -5.46066761e-02 -7.97485560e-03 -8.07706267e-02\n",
      " -7.10235313e-02 -2.67357696e-02  1.60301384e-02 -4.75000590e-04\n",
      "  9.90602225e-02  1.00379348e-01  1.01786420e-01 -2.95850068e-01\n",
      " -6.99114501e-02 -1.76480003e-02  3.86291146e-02  1.32129472e-02\n",
      "  1.91973954e-01 -6.84415773e-02  3.96516323e-02 -3.38560455e-02\n",
      "  1.16792783e-01 -1.31957576e-01 -9.46771260e-03  1.82288691e-01\n",
      "  7.81464204e-03  5.29801771e-02 -1.79780349e-01 -3.94542702e-02\n",
      " -4.36654054e-02  5.67214787e-02  8.27209279e-02 -1.58996448e-01\n",
      "  8.60522538e-02 -1.93891108e-01 -2.17908639e-02  5.81743047e-02\n",
      " -1.14544164e-02 -2.62262598e-02  3.89469638e-02 -3.71974632e-02\n",
      " -4.19728532e-02  1.45406976e-01  5.08441105e-02  8.46778452e-02\n",
      "  8.11704919e-02  1.08713016e-01  1.19519666e-01 -6.23443397e-03\n",
      "  2.10997704e-02 -8.77275169e-02  1.44627184e-01 -2.23674588e-02\n",
      "  4.71593589e-02  4.55312282e-02 -3.59674208e-02 -3.28699052e-02\n",
      " -2.27180347e-02  1.28377110e-01 -1.51050873e-02 -6.46655634e-02\n",
      " -3.56667899e-02 -9.58060175e-02 -3.05476561e-02 -7.87422135e-02\n",
      " -2.22881697e-02  1.40284356e-02  1.14660695e-01  8.35018307e-02\n",
      " -9.50911790e-02  8.04590993e-03  1.63519569e-02  4.47432362e-02\n",
      "  9.22845602e-02 -7.70900995e-02  1.31885082e-01 -2.01144163e-02\n",
      "  2.27902997e-02 -7.50862062e-04 -2.57652521e-01 -1.47704706e-01\n",
      "  5.53195626e-02 -2.42498308e-01 -5.90938963e-02  7.36993328e-02\n",
      " -1.51609704e-01 -1.63189262e-01  6.32420648e-03  9.05620754e-02\n",
      " -2.89263606e-01  5.94758503e-02 -6.08896986e-02 -7.54456371e-02\n",
      " -1.40677899e-01 -1.45998048e-02 -9.46260095e-02  7.86070526e-02\n",
      "  4.63910513e-02 -1.38699720e-02  7.24405050e-03 -1.36741519e-01\n",
      " -9.29970667e-02  1.72215015e-01 -4.39623371e-02 -1.28073573e-01\n",
      " -8.24551880e-02 -1.19564489e-01  9.58294198e-02  1.24492452e-01\n",
      "  1.98896334e-01  7.10276589e-02  9.00618583e-02  5.25023974e-02\n",
      " -1.42338760e-02  7.10540861e-02 -6.36595413e-02  8.52326304e-02\n",
      "  5.50197773e-02  1.46650046e-01  4.80885096e-02 -5.66458032e-02\n",
      " -8.53338093e-02 -2.28997797e-01  4.42798212e-02 -5.79799525e-02\n",
      " -4.20220084e-02  5.29528633e-02  2.35441968e-01  2.83949934e-02\n",
      " -8.06721002e-02  1.13705933e-01 -3.98199856e-02  1.02186101e-02\n",
      "  1.78247124e-01  7.79455826e-02  2.73923296e-02 -1.76449835e-01\n",
      " -9.19813961e-02  9.79911685e-02 -6.30764961e-02  2.47769263e-02\n",
      "  1.14319518e-01  1.44798964e-01 -7.38420933e-02  6.12249710e-02\n",
      " -1.21575646e-01  1.47491008e-01  1.03660151e-02  2.94111855e-02\n",
      " -4.76954952e-02 -3.39178741e-02  1.88579202e-01  9.50618088e-03\n",
      "  1.69329390e-01 -8.09109956e-02 -2.58544326e-01  1.17309093e-01\n",
      "  2.65429795e-01  1.41790882e-02 -1.91939473e-01 -1.28631264e-01\n",
      " -2.40741819e-02 -1.27138972e-01 -2.48320717e-02 -1.80903643e-01\n",
      "  1.42379189e-02  1.30370587e-01  3.79658192e-02  1.35676801e-01\n",
      " -4.54212092e-02  1.41335027e-02  6.57232180e-02  1.78350732e-01\n",
      " -6.45535067e-02 -6.62496090e-02 -1.12378132e-02  7.68647715e-02\n",
      "  1.31481439e-01  1.33667007e-01 -1.23710662e-01 -2.90739108e-02\n",
      "  1.58715725e-01  2.05911919e-02 -1.46870330e-01 -9.83221158e-02\n",
      "  3.12547153e-03  5.06276786e-02  2.99457282e-01 -2.83295941e-03\n",
      " -5.80111146e-02  2.11055636e-01 -3.52239609e-02 -2.02170581e-01\n",
      "  2.86286995e-02 -2.14255691e-01  5.51824085e-03 -1.13842212e-01\n",
      " -3.36546451e-02 -6.85793087e-02  7.19617903e-02 -5.39895035e-02\n",
      "  2.99273264e-02  1.48011625e-01 -3.05824764e-02 -9.16720480e-02\n",
      "  1.47543669e-01  2.55867213e-01 -3.38373221e-02  1.60266489e-01\n",
      " -6.98654428e-02 -7.99171552e-02 -9.96683612e-02  4.40380871e-02\n",
      "  2.38885477e-01 -1.10747993e-01 -1.57865971e-01  2.79566161e-02\n",
      "  1.41593711e-02  1.17281400e-01 -6.62008524e-02  4.94128913e-02\n",
      " -1.46340430e-01 -6.42150789e-02 -2.50399083e-01 -1.14972210e-02\n",
      "  2.44944151e-02 -1.60743609e-01  4.55576777e-02 -6.61631525e-02\n",
      " -4.52221781e-02 -1.49384320e-01  1.86605230e-01  1.78735368e-02\n",
      " -9.08067971e-02 -3.37256608e-03 -1.10963762e-01 -7.42467344e-02\n",
      "  4.07449454e-02  1.29042953e-01 -2.56653339e-01  7.98981488e-02\n",
      "  9.35152471e-02 -4.62383814e-02 -1.74459934e-01  4.32248451e-02\n",
      " -1.10672065e-03  1.73881799e-02  4.16712202e-02 -9.35423672e-02\n",
      "  5.45746200e-02 -2.98338812e-02 -5.38226739e-02 -7.37786964e-02\n",
      "  1.26240207e-02 -3.77212539e-02 -2.54493207e-02  5.82963042e-02\n",
      "  4.62109596e-03 -2.91642547e-01  8.93985331e-02  2.03306943e-01\n",
      "  6.94411844e-02  2.03615338e-01  8.87760147e-02  9.81918536e-03\n",
      " -8.55986774e-03 -3.19337361e-02 -3.25389579e-02  2.66413521e-02\n",
      " -3.70860510e-02  1.21802583e-01  8.08421057e-03 -5.80672026e-02\n",
      "  1.03306808e-01  3.25714946e-02 -2.85172969e-01 -3.43910083e-02\n",
      "  2.76771367e-01  1.54782698e-01 -1.05372064e-01  1.05982855e-01\n",
      "  9.33081470e-03 -1.91007853e-02 -4.02415395e-02  1.38900846e-01\n",
      " -5.20247743e-02  8.34904760e-02  1.04845442e-01 -2.24005654e-02\n",
      "  1.63281426e-01  2.35104918e-01 -3.68601196e-02  1.20350845e-01\n",
      " -1.51084095e-01 -1.44642085e-01 -5.07896617e-02  3.60574722e-02\n",
      " -1.83614910e-01  2.86552981e-02  6.39751628e-02 -1.26249999e-01\n",
      " -1.05006501e-01 -2.40724720e-02 -1.63978308e-01 -6.69709072e-02\n",
      " -1.65840805e-01 -1.53839201e-01 -8.27576891e-02  8.57285187e-02\n",
      " -8.83776546e-02  9.74228755e-02 -1.48206264e-01  7.44173601e-02\n",
      "  6.03490230e-03  5.56763969e-02 -5.94908930e-02 -1.09078437e-02\n",
      "  1.45297199e-01  1.15516245e-01  5.35461828e-02  1.56112939e-01\n",
      "  1.14843369e-01  2.94275619e-02 -1.04757464e-02 -1.36746764e-01\n",
      "  1.49746984e-01 -2.96487529e-02 -1.13768559e-02  7.67339617e-02\n",
      "  1.21734746e-01  4.37885150e-02 -1.31353542e-01  1.47011131e-01\n",
      "  3.53434309e-03  1.16484627e-01 -4.07044142e-02  1.83344945e-01\n",
      "  7.92122111e-02 -9.43746231e-03  4.17150892e-02 -6.38290048e-02\n",
      "  1.41946867e-01  4.37912717e-02 -3.31244618e-02 -6.70311302e-02\n",
      "  5.72453160e-03 -8.74506496e-03  3.84170786e-02  2.79028509e-02\n",
      " -1.32133693e-01  1.32623408e-03 -1.67607561e-01 -4.77691293e-02\n",
      "  4.66023199e-03 -2.47169375e-01 -2.25277692e-01 -1.07060269e-01\n",
      "  1.36036009e-01 -7.99225420e-02  6.24129027e-02 -2.59737298e-02\n",
      "  9.95131359e-02 -4.68383767e-02 -1.37938470e-01 -3.34437191e-02\n",
      "  5.32934591e-02 -1.69506460e-01 -7.63852149e-04  1.37621865e-01\n",
      "  3.59239988e-03 -8.49477798e-02  1.00065604e-01  6.23394996e-02\n",
      " -2.94826329e-02  1.77002147e-01 -3.59651536e-01  1.90697275e-02\n",
      " -1.33020401e-01 -6.91917688e-02  7.11490959e-02 -9.96918511e-03\n",
      "  9.98638421e-02 -4.15174887e-02 -8.99139345e-02  9.59320515e-02\n",
      " -5.06173149e-02  3.16704273e-01 -1.01256542e-01  1.50846429e-02\n",
      "  4.45277654e-02  2.10949313e-02 -1.48452848e-01 -3.45144451e-01\n",
      "  7.91623741e-02 -1.84662461e-01 -7.21352622e-02  2.45138109e-02\n",
      "  1.28520310e-01 -1.06700256e-01  1.19933724e-01 -3.45252603e-02\n",
      "  1.17668279e-01 -1.15490295e-01 -2.91730762e-01  5.10502085e-02\n",
      " -7.66248703e-02  1.16231576e-01 -7.85681456e-02  2.66135465e-02\n",
      " -4.11979761e-03 -1.97121594e-02 -7.30115175e-03  9.77100208e-02\n",
      "  5.19999228e-02  2.89143175e-02 -9.27533880e-02  4.65646526e-03\n",
      " -6.58905506e-02  1.32403731e-01 -7.84828216e-02  3.83476913e-02\n",
      "  3.91534939e-02  7.66336545e-03 -1.67630121e-01  9.51717943e-02\n",
      " -2.94521511e-01  1.00552484e-01 -1.35368228e-01 -1.92531943e-02\n",
      "  1.82702228e-01  3.97887900e-02  6.09406969e-04 -1.30886599e-01\n",
      "  2.29187571e-02 -2.50216778e-02 -9.09528136e-02  1.14490189e-01\n",
      "  9.88068283e-02 -2.98230182e-02  3.59179862e-02 -1.60771757e-02\n",
      "  2.02426702e-01  7.96549171e-02  9.97954980e-02  5.96228987e-03\n",
      "  1.51398014e-02 -1.63391382e-02 -7.26440176e-02 -1.74500883e-01\n",
      " -9.74013433e-02 -9.75317806e-02 -1.74259439e-01 -2.04797182e-02\n",
      "  1.01832591e-01  7.06428364e-02  9.27090347e-02 -9.17721093e-02\n",
      "  2.16900315e-02  1.01288229e-01  2.59937365e-02  5.29940203e-02\n",
      " -1.03259586e-01 -2.54203752e-02  4.27925885e-02 -1.27254143e-01\n",
      " -2.49359626e-02  1.07483529e-01 -1.98624894e-01 -1.44155184e-02\n",
      "  1.24583498e-01  1.51488846e-02  1.33191735e-01 -1.84516702e-02\n",
      "  6.99544922e-02 -1.10331237e-01  1.46735489e-01 -3.52069573e-03\n",
      " -1.72205493e-01  1.00617282e-01  4.94461022e-02 -3.81896235e-02\n",
      "  6.61102161e-02  7.71414582e-03 -6.69504702e-02  8.66254978e-03\n",
      " -6.36172444e-02  5.38291931e-02  3.30131389e-02  1.04564048e-01\n",
      " -9.08897072e-02  5.57310954e-02 -3.49480920e-02  1.13186501e-02\n",
      " -1.59522921e-01 -6.49086908e-02 -1.88873738e-01  3.35946456e-02\n",
      " -6.74174028e-03 -7.07279816e-02  1.05981350e-01 -1.08507872e-01\n",
      "  1.12795271e-03 -3.47456411e-02  1.84438407e-01  7.90897906e-02\n",
      "  1.65812716e-01  1.34595916e-01 -2.81499363e-02  6.09307662e-02\n",
      "  7.08713457e-02  2.08301380e-01 -2.34032515e-02 -1.10966958e-01]\n"
     ]
    }
   ],
   "source": [
    "embedding = get_embedding(\"Hola mundo\")\n",
    "print(embedding.shape)\n",
    "print(embedding)"
   ]
  },
  {
   "cell_type": "code",
   "execution_count": null,
   "id": "f688b221",
   "metadata": {},
   "outputs": [],
   "source": []
  },
  {
   "cell_type": "markdown",
   "id": "79249fd3",
   "metadata": {},
   "source": [
    "## Insertando embeddings en la base de datos vectorial"
   ]
  },
  {
   "cell_type": "code",
   "execution_count": null,
   "id": "e24ee562",
   "metadata": {},
   "outputs": [],
   "source": [
    "from annoy import AnnoyIndex\n",
    "import os\n",
    "\n",
    "embedding_size = 768\n",
    "index_name = \"full-index-mananeras.ann\""
   ]
  },
  {
   "cell_type": "code",
   "execution_count": 89,
   "id": "4e516cb8",
   "metadata": {},
   "outputs": [],
   "source": [
    "chunk_id_mapping = {}\n",
    "for chunk in chunked_documents:\n",
    "    chunk_id_mapping[chunk[\"id\"]] = chunk"
   ]
  },
  {
   "cell_type": "code",
   "execution_count": 90,
   "id": "b32c9500",
   "metadata": {},
   "outputs": [],
   "source": [
    "if not os.path.exists(index_name):\n",
    "    index = AnnoyIndex(embedding_size, 'angular')\n",
    "\n",
    "    for idx, chunk in chunk_id_mapping.items():\n",
    "\n",
    "        v = get_embedding(chunk[\"text\"])\n",
    "\n",
    "        index.add_item(idx, v)\n",
    "\n",
    "    index.build(10)\n",
    "    index.save(index_name)"
   ]
  },
  {
   "cell_type": "markdown",
   "id": "4dc437f3",
   "metadata": {},
   "source": [
    "## Ejecutando queries"
   ]
  },
  {
   "cell_type": "code",
   "execution_count": 91,
   "id": "1ad23695",
   "metadata": {},
   "outputs": [
    {
     "data": {
      "text/plain": [
       "True"
      ]
     },
     "execution_count": 91,
     "metadata": {},
     "output_type": "execute_result"
    }
   ],
   "source": [
    "index = AnnoyIndex(embedding_size, 'angular')\n",
    "index.load(index_name)"
   ]
  },
  {
   "cell_type": "code",
   "execution_count": 92,
   "id": "0ead5d08",
   "metadata": {},
   "outputs": [],
   "source": [
    "pregunta = \"¿Qué significa ser aspiracionista?\""
   ]
  },
  {
   "cell_type": "code",
   "execution_count": 94,
   "id": "4fdcf835",
   "metadata": {},
   "outputs": [
    {
     "name": "stdout",
     "output_type": "stream",
     "text": [
      "¿Qué significa ser aspiracionista?\n"
     ]
    }
   ],
   "source": [
    "print(pregunta)\n",
    "embedding_pregunta = get_embedding(pregunta)\n",
    "# print(embedding_pregunta)"
   ]
  },
  {
   "cell_type": "code",
   "execution_count": 95,
   "id": "b26777e2",
   "metadata": {},
   "outputs": [
    {
     "data": {
      "text/plain": [
       "[27980, 12746, 12620, 14628, 20336]"
      ]
     },
     "execution_count": 95,
     "metadata": {},
     "output_type": "execute_result"
    }
   ],
   "source": [
    "ids_potenciales_respuestas = index.get_nns_by_vector(embedding_pregunta, 5)\n",
    "ids_potenciales_respuestas"
   ]
  },
  {
   "cell_type": "code",
   "execution_count": 97,
   "id": "f4880193",
   "metadata": {},
   "outputs": [],
   "source": [
    "potenciales_respuestas = [chunk_id_mapping[idx] for idx in ids_potenciales_respuestas]\n",
    "texto_potencial = [chunk[\"text\"] for chunk in potenciales_respuestas]\n",
    "# texto_potencial"
   ]
  },
  {
   "cell_type": "markdown",
   "id": "eefe8e88",
   "metadata": {},
   "source": [
    "## Usando una LLM para generar respuestas"
   ]
  },
  {
   "cell_type": "code",
   "execution_count": 98,
   "id": "dea765d2",
   "metadata": {},
   "outputs": [],
   "source": [
    "def get_answer(question, context_documents):\n",
    "    context_divider = \"\\n---\\n\"\n",
    "    question = question.strip()\n",
    "\n",
    "    context = context_divider.join(context_documents)\n",
    "\n",
    "    template_rag = \"\"\"Eres Andrés Manuel Lopez Obrador, presidente de México.\n",
    "Responde a la pregunta basándote en el contexto de lo dicho por el presidente.\n",
    "El contexto está delimitado por las comillas invertidas.\n",
    "Contesta como si la respuesta la estuviera dando Andrés Manuel Lopez Obrador.\n",
    "\n",
    "```\n",
    "{context}\n",
    "```\n",
    "\n",
    "Pregunta: {question}\n",
    "\"\"\"\n",
    "    final_prompt = template_rag.format(context=context, question=question)\n",
    "    return query_llm(final_prompt)\n"
   ]
  },
  {
   "cell_type": "code",
   "execution_count": 99,
   "id": "781e12a6",
   "metadata": {},
   "outputs": [
    {
     "name": "stdout",
     "output_type": "stream",
     "text": [
      "¿Qué significa ser aspiracionista?\n",
      "\n",
      "Ser aspiracionista significa tener una actitud de aspirar a triunfar a toda costa y salir adelante, sin importar las consecuencias o el impacto en los demás. Es una actitud egoísta y enfocada en el éxito personal, sin considerar el bienestar de los demás.\n"
     ]
    }
   ],
   "source": [
    "print(pregunta)\n",
    "print()\n",
    "print(get_answer(pregunta, texto_potencial))"
   ]
  },
  {
   "cell_type": "code",
   "execution_count": 100,
   "id": "9c4d1c95",
   "metadata": {},
   "outputs": [
    {
     "name": "stdout",
     "output_type": "stream",
     "text": [
      "Fuentes:\n",
      "Versión estenográfica. Conferencia de prensa del presidente Andrés Manuel López Obrador del 11 de agosto del 2020\n",
      "Versión estenográfica. Megafarmacia para el Bienestar\n",
      "Versión estenográfica. Conferencia de prensa del presidente Andrés Manuel López Obrador del 22 de diciembre de 2023\n",
      "Versión estenográfica del 85 Aniversario del Fondo de Cultura Económica\n",
      "Versión estenográfica. Conferencia de prensa del presidente Andrés Manuel López Obrador del 11 de junio de 2021\n"
     ]
    }
   ],
   "source": [
    "print(\"Fuentes:\")\n",
    "documentos_originales = [dialogos_presidente[chunk[\"document_id\"]][\"title\"] for chunk in potenciales_respuestas]\n",
    "print(\"\\n\".join(documentos_originales))"
   ]
  },
  {
   "cell_type": "code",
   "execution_count": 101,
   "id": "3217578a",
   "metadata": {},
   "outputs": [
    {
     "name": "stdout",
     "output_type": "stream",
     "text": [
      "¿Qué significa ser aspiracionista?\n",
      "\n",
      "Ser aspiracionista significa tener la convicción de que es posible lograr un cambio positivo en nuestro país y en la vida de los mexicanos. Ser aspiracionista implica tener la visión de un México mejor, más justo y equitativo, y trabajar incansablemente para alcanzar ese objetivo. Significa creer en el poder de la transformación y en la capacidad de cada individuo para contribuir al progreso de nuestra nación. Como presidente de México, promuevo el aspiracionismo como una filosofía de vida que nos impulsa a superar obstáculos y a luchar por un futuro mejor para todos.\n"
     ]
    }
   ],
   "source": [
    "print(pregunta)\n",
    "print()\n",
    "prompt = \"\"\"Eres Andrés Manuel Lopez Obrador, presidente de México.\n",
    "Responde a la pregunta como si la respuesta la estuviera dando Andrés Manuel Lopez Obrador.\n",
    "\n",
    "Pregunta: {question}\n",
    "\"\"\"\n",
    "final_prompt = prompt.format(question=pregunta)\n",
    "print(query_llm(final_prompt))"
   ]
  },
  {
   "cell_type": "code",
   "execution_count": null,
   "id": "d7734099",
   "metadata": {},
   "outputs": [],
   "source": []
  }
 ],
 "metadata": {
  "kernelspec": {
   "display_name": "Python 3 (ipykernel)",
   "language": "python",
   "name": "python3"
  },
  "language_info": {
   "codemirror_mode": {
    "name": "ipython",
    "version": 3
   },
   "file_extension": ".py",
   "mimetype": "text/x-python",
   "name": "python",
   "nbconvert_exporter": "python",
   "pygments_lexer": "ipython3",
   "version": "3.10.12"
  }
 },
 "nbformat": 4,
 "nbformat_minor": 5
}
